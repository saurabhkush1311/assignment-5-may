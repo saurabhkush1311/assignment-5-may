{
 "cells": [
  {
   "cell_type": "markdown",
   "id": "f7d5a414-6766-4a58-b807-273192608130",
   "metadata": {},
   "source": [
    "# ANSWER 1\n",
    "Time-dependent seasonal components refer to seasonal patterns in time series data that vary over time. In some time series, the seasonality may not be constant throughout the entire duration of the data, and instead, it may change as time progresses. This variation in seasonality can be observed in data with irregular or non-stationary seasonal patterns.\n",
    "\n",
    "For example, in retail sales data, the seasonality around the holiday season may vary from year to year due to factors like changing consumer behavior, economic conditions, or marketing strategies."
   ]
  },
  {
   "cell_type": "markdown",
   "id": "9ae7c045-2093-46ed-b10b-3e7c107ee782",
   "metadata": {},
   "source": [
    "# ANSWER 2\n",
    "Identifying time-dependent seasonal components in time series data requires careful analysis and visualization. Some common methods to identify such components include:\n",
    "\n",
    "Seasonal Subseries Plot: Split the data into smaller seasonal subseries and plot them separately to check for any variations in seasonal patterns over time.\n",
    "\n",
    "Rolling Statistics: Calculate rolling statistics like the moving average or rolling standard deviation and observe how they change over time.\n",
    "\n",
    "Time Series Decomposition: Use decomposition techniques like Seasonal Decomposition of Time Series (STL) or Seasonal and Trend decomposition using Loess (STL) to separate the different components, including the seasonality, and analyze how they vary over time.\n",
    "\n",
    "Autocorrelation: Examine the autocorrelation function (ACF) and partial autocorrelation function (PACF) plots to observe if there are any recurring patterns at different lags."
   ]
  },
  {
   "cell_type": "markdown",
   "id": "61993f19-9902-428e-8bd3-33ea3c6c2b83",
   "metadata": {},
   "source": [
    "# ANSWER 3\n",
    "Several factors can influence time-dependent seasonal components:\n",
    "\n",
    "Calendar Effects: The dates of holidays or other significant events can impact seasonality, especially in retail, travel, and hospitality industries.\n",
    "\n",
    "Economic Conditions: Changes in the economy, such as recessions or economic growth, can affect consumer behavior and alter seasonal patterns.\n",
    "\n",
    "Weather Variations: Seasonal patterns can be influenced by weather conditions, particularly in industries like agriculture, tourism, and energy consumption.\n",
    "\n",
    "Government Policies: Government policies, tax changes, or incentives can affect consumer spending and create variations in seasonality.\n",
    "\n",
    "Market Competition: Competitors' strategies, promotions, or pricing changes can influence seasonal demand for products or services."
   ]
  },
  {
   "cell_type": "markdown",
   "id": "35cb7ff6-8093-4966-9e90-b8f5b9b520ac",
   "metadata": {},
   "source": [
    "# ANSWER 4\n",
    "Autoregression (AR) models are used in time series analysis and forecasting to model the relationship between a time series and its past values. The AR model assumes that the current value of the series is a linear combination of its past values and a stochastic (random) term.\n",
    "\n",
    "Mathematically, an AR(p) model can be represented as:\n",
    "\n",
    "yt = c + φ1 * yt-1 + φ2 * yt-2 + ... + φp * yt-p + εt\n",
    "\n",
    "Where:\n",
    "yt is the value at time t,\n",
    "c is a constant term,\n",
    "φ1, φ2, ..., φp are the autoregressive coefficients,\n",
    "yt-1, yt-2, ..., yt-p are the lagged values (past observations) of the time series,\n",
    "εt is the error term at time t.\n",
    "\n",
    "The order of the AR model, denoted by \"p,\" represents the number of lagged terms considered in the model. The coefficients (φ1, φ2, ..., φp) are estimated from the data using methods like least squares."
   ]
  },
  {
   "cell_type": "markdown",
   "id": "c7dbe3d0-4123-4eca-be82-7b6f222c44b0",
   "metadata": {},
   "source": [
    "# ANSWER 5\n",
    "To use an autoregression model for future time point predictions, you first fit the AR model to historical data to estimate the autoregressive coefficients (φ1, φ2, ..., φp). Once the model is fitted, you can use it to forecast future values.\n",
    "\n",
    "The process for making predictions is as follows:\n",
    "\n",
    "Set the initial conditions: Provide the initial values (yt-p, yt-p+1, ..., yt-1) for the past p time points to start forecasting.\n",
    "\n",
    "Calculate the forecast: Use the AR model equation to calculate the forecasted value for the next time point (yt) using the estimated autoregressive coefficients and the past observations.\n",
    "\n",
    "Repeat: Use the forecasted value as the new observation and repeat the process to make forecasts for subsequent time points.\n",
    "\n",
    "As you move into the future, you will continue using the forecasted values as new observations until you reach the desired prediction horizon.\n"
   ]
  },
  {
   "cell_type": "markdown",
   "id": "60e6ac64-11b4-4d32-95d9-c61738ac0f89",
   "metadata": {},
   "source": [
    "# ANSWER 6\n",
    "A Moving Average (MA) model is a time series model that describes the relationship between a time series and the past forecast errors (residuals) rather than past values of the series itself. The MA model assumes that the current value of the series is a linear combination of the past forecast errors and a stochastic (random) term.\n",
    "\n",
    "Mathematically, an MA(q) model can be represented as:\n",
    "\n",
    "yt = c + θ1 * εt-1 + θ2 * εt-2 + ... + θq * εt-q + εt\n",
    "\n",
    "Where:\n",
    "yt is the value at time t,\n",
    "c is a constant term,\n",
    "θ1, θ2, ..., θq are the moving average coefficients,\n",
    "εt-1, εt-2, ..., εt-q are the past forecast errors at lagged time points,\n",
    "εt is the error term at time t.\n",
    "\n",
    "The order of the MA model, denoted by \"q,\" represents the number of lagged forecast errors considered in the model. The coefficients (θ1, θ2, ..., θq) are estimated from the data using methods like maximum likelihood estimation.\n",
    "\n",
    "The key difference between AR (AutoRegressive) and MA (Moving Average) models is in the way they use past values or forecast errors to model the current value of the time series. AR models use past values, while MA models use past forecast errors."
   ]
  },
  {
   "cell_type": "markdown",
   "id": "8f01d027-80d8-47d8-9a3c-ce00ff02db5c",
   "metadata": {},
   "source": [
    "# ANSWER 7\n",
    "A mixed AutoRegressive Moving Average (ARMA) model combines both AR (AutoRegressive) and MA (Moving Average) components to capture the dependencies in a time series. It is a more general model that can handle time series data with both autoregressive and moving average patterns.\n",
    "\n",
    "A mixed ARMA model of order (p, q) is represented as:\n",
    "\n",
    "yt = c + φ1 * yt-1 + φ2 * yt-2 + ... + φp * yt-p + θ1 * εt-1 + θ2 * εt-2 + ... + θq * εt-q + εt\n",
    "\n",
    "Where:\n",
    "yt is the value at time t,\n",
    "c is a constant term,\n",
    "φ1, φ2, ..., φp are the autoregressive coefficients,\n",
    "θ1, θ2, ..., θq are the moving average coefficients,\n",
    "yt-1, yt-2, ..., yt-p are the lagged values (past observations) of the time series,\n",
    "εt-1, εt-2, ..., εt-q are the past forecast errors at lagged time points,\n",
    "εt is the error term at time t.\n",
    "\n",
    "The mixed ARMA model can handle time series data that exhibit both autocorrelation (AR component) and moving average (MA component) patterns. The order of the AR component is denoted by \"p,\" and the order of the MA component is denoted by \"q.\"\n",
    "\n",
    "By incorporating both AR and MA components, the mixed ARMA model provides a more flexible and comprehensive framework for modeling and forecasting complex time series data. The parameters (φ1, φ2, ..., φp, θ1, θ2, ..., θq) of the model are estimated from the data using statistical methods such as maximum likelihood estimation."
   ]
  },
  {
   "cell_type": "code",
   "execution_count": null,
   "id": "79a69e25-2ba5-4260-8f71-e6fa97ec20f4",
   "metadata": {},
   "outputs": [],
   "source": []
  },
  {
   "cell_type": "code",
   "execution_count": null,
   "id": "4da89d9b-6df3-46b8-a913-73d21a11046d",
   "metadata": {},
   "outputs": [],
   "source": []
  },
  {
   "cell_type": "code",
   "execution_count": null,
   "id": "b33757f4-68f0-4015-9fdb-d4c46d20e26a",
   "metadata": {},
   "outputs": [],
   "source": []
  }
 ],
 "metadata": {
  "kernelspec": {
   "display_name": "Python 3 (ipykernel)",
   "language": "python",
   "name": "python3"
  },
  "language_info": {
   "codemirror_mode": {
    "name": "ipython",
    "version": 3
   },
   "file_extension": ".py",
   "mimetype": "text/x-python",
   "name": "python",
   "nbconvert_exporter": "python",
   "pygments_lexer": "ipython3",
   "version": "3.10.8"
  }
 },
 "nbformat": 4,
 "nbformat_minor": 5
}
